{
 "cells": [
  {
   "cell_type": "markdown",
   "id": "recorded-standard",
   "metadata": {},
   "source": [
    "## monte carlo playtime"
   ]
  },
  {
   "cell_type": "code",
   "execution_count": 9,
   "id": "formal-nation",
   "metadata": {},
   "outputs": [],
   "source": [
    "import numpy as np\n",
    "import math\n",
    "import random\n",
    "from matplotlib import pyplot as plt\n",
    "from IPython.display import clear_output"
   ]
  },
  {
   "cell_type": "code",
   "execution_count": 10,
   "id": "decimal-teaching",
   "metadata": {},
   "outputs": [],
   "source": [
    "#just estimating an integral over some range by evaluating ntegrand at random points, finding the average, and multiplying by the range to get approximate area under the curve.\n",
    "\n",
    "def randomgen(lb, ub):\n",
    "    return np.random.uniform(lb,ub)\n",
    "\n",
    "\n",
    "def fx_ave(samps,lb,ub):\n",
    "    fx = [0]*samps\n",
    "    for i in range(samps):\n",
    "        p = randomgen(lb,ub)\n",
    "        fx[i-1] = (np.exp(-p))/(1+((p-1)**2))\n",
    "    fx = np.array(fx)\n",
    "    return np.mean(fx)*(ub-lb)\n",
    "\n",
    "\n",
    "def fx2_ave(samps,lb,ub):\n",
    "    fx2 = [0]*samps\n",
    "    for i in range(samps):\n",
    "        p = randomgen(lb,ub)\n",
    "        fx2[i-1] = ((np.exp(-p))/(1+((p-1)**2)))**2\n",
    "    fx2 = np.array(fx2)\n",
    "    return np.mean(fx2)*(ub-lb)   "
   ]
  },
  {
   "cell_type": "code",
   "execution_count": 11,
   "id": "foster-stephen",
   "metadata": {},
   "outputs": [
    {
     "name": "stdout",
     "output_type": "stream",
     "text": [
      "0.7019185488033218 0.27312291253460635\n"
     ]
    }
   ],
   "source": [
    "I = fx_ave(10000,0,5)\n",
    "I2 = fx2_ave(10000,0,5)\n",
    "\n",
    "print(I, I2)"
   ]
  },
  {
   "cell_type": "code",
   "execution_count": 12,
   "id": "small-quick",
   "metadata": {},
   "outputs": [
    {
     "name": "stdout",
     "output_type": "stream",
     "text": [
      "0.04820955182976101\n"
     ]
    }
   ],
   "source": [
    "var = I**2 - I2\n",
    "print(var**2)"
   ]
  },
  {
   "cell_type": "code",
   "execution_count": 15,
   "id": "likely-density",
   "metadata": {},
   "outputs": [
    {
     "data": {
      "image/png": "[encoded data removed]",
      "text/plain": [
       "<Figure size 432x288 with 1 Axes>"
      ]
     },
     "metadata": {
      "needs_background": "light"
     },
     "output_type": "display_data"
    }
   ],
   "source": [
    "def f_of_x(x):\n",
    "    \"\"\"\n",
    "    This is the main function we want to integrate over.\n",
    "    Args:\n",
    "    - x (float) : input to function; must be in radians\n",
    "    Return:\n",
    "    - output of function f(x) (float)\n",
    "    \"\"\"\n",
    "    return (np.exp(-1*x))/(1+(x-1)**2)\n",
    "\n",
    "xs = [float(i/50) for i in range(int(50*np.pi*2))]\n",
    "ys = [f_of_x(x) for x in xs]\n",
    "plt.plot(xs,ys)\n",
    "plt.title(\"f(x)\");"
   ]
  },
  {
   "cell_type": "code",
   "execution_count": 17,
   "id": "emerging-unknown",
   "metadata": {},
   "outputs": [
    {
     "name": "stdout",
     "output_type": "stream",
     "text": [
      "Optimal Lambda: 1.6500000000000001\n",
      "Optimal Variance: 0.03975869272890664\n",
      "Error: 0.0019939581923627847\n"
     ]
    }
   ],
   "source": [
    "#so this function is \"\"\"Active\"\"\" from like 0-3 and then doesnt do much after that. so let's pick hella points in that range.\n",
    "\n",
    "def get_rand_number(min_value, max_value):\n",
    "    \"\"\"\n",
    "    This function gets a random number from a uniform distribution between\n",
    "    the two input values [min_value, max_value] inclusively\n",
    "    Args:\n",
    "    - min_value (float)\n",
    "    - max_value (float)\n",
    "    Return:\n",
    "    - Random number between this range (float)\n",
    "    \"\"\"\n",
    "    range = max_value - min_value\n",
    "    choice = random.uniform(0,1)\n",
    "    return min_value + range*choice\n",
    "\n",
    "# this is the template of our weight function g(x)\n",
    "def g_of_x(x, A, lamda):\n",
    "    e = 2.71828\n",
    "    return A*math.pow(e, -1*lamda*x)\n",
    "\n",
    "def inverse_G_of_r(r, lamda):\n",
    "    return (-1 * math.log(float(r)))/lamda\n",
    "\n",
    "def get_IS_variance(lamda, num_samples):\n",
    "    \"\"\"\n",
    "    This function calculates the variance if a Monte Carlo\n",
    "    using importance sampling.\n",
    "    Args:\n",
    "    - lamda (float) : lamdba value of g(x) being tested\n",
    "    Return: \n",
    "    - Variance\n",
    "    \"\"\"\n",
    "    A = lamda\n",
    "    int_max = 5\n",
    "    \n",
    "    # get sum of squares\n",
    "    running_total = 0\n",
    "    for i in range(num_samples):\n",
    "        x = get_rand_number(0, int_max)\n",
    "        running_total += (f_of_x(x)/g_of_x(x, A, lamda))**2\n",
    "    \n",
    "    sum_of_sqs = running_total / num_samples\n",
    "    \n",
    "    # get squared average\n",
    "    running_total = 0\n",
    "    for i in range(num_samples):\n",
    "        x = get_rand_number(0, int_max)\n",
    "        running_total += f_of_x(x)/g_of_x(x, A, lamda)\n",
    "    sq_ave = (running_total/num_samples)**2\n",
    "    \n",
    "    \n",
    "    return sum_of_sqs - sq_ave\n",
    "\n",
    "# get variance as a function of lambda by testing many\n",
    "# different lambdas\n",
    "\n",
    "test_lamdas = [i*0.05 for i in range(1, 61)]\n",
    "variances = []\n",
    "\n",
    "for i, lamda in enumerate(test_lamdas):\n",
    "    print(f\"lambda {i+1}/{len(test_lamdas)}: {lamda}\")\n",
    "    A = lamda\n",
    "    variances.append(get_IS_variance(lamda, 10000))\n",
    "    clear_output(wait=True)\n",
    "    \n",
    "optimal_lamda = test_lamdas[np.argmin(np.asarray(variances))]\n",
    "IS_variance = variances[np.argmin(np.asarray(variances))]\n",
    "\n",
    "print(f\"Optimal Lambda: {optimal_lamda}\")\n",
    "print(f\"Optimal Variance: {IS_variance}\")\n",
    "print(f\"Error: {(IS_variance/10000)**0.5}\")"
   ]
  },
  {
   "cell_type": "code",
   "execution_count": 18,
   "id": "heavy-infrastructure",
   "metadata": {},
   "outputs": [
    {
     "name": "stdout",
     "output_type": "stream",
     "text": [
      "Importance Sampling Approximation: 0.6922435912381425\n",
      "Variance: 0.0521821746874187\n",
      "Error: 0.0022843418020825758\n"
     ]
    }
   ],
   "source": [
    "\n",
    "def importance_sampling_MC(lamda, num_samples):\n",
    "    A = lamda\n",
    "    \n",
    "    running_total = 0\n",
    "    for i in range(num_samples):\n",
    "        r = get_rand_number(0,1)\n",
    "        running_total += f_of_x(inverse_G_of_r(r, lamda=lamda))/g_of_x(inverse_G_of_r(r, lamda=lamda), A, lamda)\n",
    "    approximation = float(running_total/num_samples)\n",
    "    return approximation\n",
    "\n",
    "# run simulation\n",
    "num_samples = 10000\n",
    "approx = importance_sampling_MC(optimal_lamda, num_samples)\n",
    "variance = get_IS_variance(optimal_lamda, num_samples)\n",
    "error = (variance/num_samples)**0.5\n",
    "\n",
    "# display results\n",
    "print(f\"Importance Sampling Approximation: {approx}\")\n",
    "print(f\"Variance: {variance}\")\n",
    "print(f\"Error: {error}\")"
   ]
  },
  {
   "cell_type": "markdown",
   "id": "private-humidity",
   "metadata": {},
   "source": [
    "**ok, now i'm gonna try to do the hydrogen atom.**"
   ]
  },
  {
   "cell_type": "code",
   "execution_count": 7,
   "id": "combined-candidate",
   "metadata": {},
   "outputs": [
    {
     "name": "stdout",
     "output_type": "stream",
     "text": [
      "Alpha:  0 <E>:  -2.8574768380700926 VarE:  0.24162226621211502 ratio =  0.36632399999999216\n",
      "Alpha:  0.05 <E>:  -2.8737771135277472 VarE:  0.17615413064947738 ratio =  0.37530499999999134\n",
      "Alpha:  0.1 <E>:  -2.8794774197476594 VarE:  0.1368122503196414 ratio =  0.38163299999999056\n",
      "Alpha:  0.15000000000000002 <E>:  -2.8764072380090453 VarE:  0.1116863680867759 ratio =  0.38689199999998997\n",
      "Alpha:  0.2 <E>:  -2.874766230104869 VarE:  0.09714535982988082 ratio =  0.3903699999999895\n",
      "Alpha:  0.25 <E>:  -2.8736626544566968 VarE:  0.08847637487881421 ratio =  0.39435999999998933\n"
     ]
    },
    {
     "data": {
      "text/plain": [
       "Text(0, 0.5, 'Energy')"
      ]
     },
     "execution_count": 7,
     "metadata": {},
     "output_type": "execute_result"
    },
    {
     "data": {
      "image/png": "[encoded data removed]",
      "text/plain": [
       "<Figure size 432x288 with 3 Axes>"
      ]
     },
     "metadata": {
      "needs_background": "light"
     },
     "output_type": "display_data"
    },
    {
     "data": {
      "image/png": "[encoded data removed]",
      "text/plain": [
       "<Figure size 432x288 with 1 Axes>"
      ]
     },
     "metadata": {
      "needs_background": "light"
     },
     "output_type": "display_data"
    }
   ],
   "source": [
    "\"\"\"\n",
    "                                HELIUM\n",
    "                    Joana Fraxanet and Carlos Mateos\n",
    "\"\"\"\n",
    "\n",
    "import numpy as np\n",
    "import matplotlib.pyplot as plt\n",
    "\n",
    "\n",
    "#Define trial function\n",
    "def wf(r1,r2,alpha):\n",
    "    '''Computes the trial wavefunction'''\n",
    "    norm_r1 = np.linalg.norm(r1)\n",
    "    norm_r2 = np.linalg.norm(r2)\n",
    "    r12 = np.linalg.norm(r1-r2)\n",
    "    wf = np.exp(-2*norm_r1)*np.exp(-2*norm_r2)*np.exp(r12/(2*(1+alpha*r12)))\n",
    "    return wf\n",
    "\n",
    "#define prob density\n",
    "def prob_density(r1,r2,alpha):\n",
    "    '''Computes the probability density (not normalized) of the trial wavefunction'''\n",
    "    return wf(r1,r2,alpha)**2\n",
    "\n",
    "#define E local\n",
    "def E_local(r1,r2,alpha):\n",
    "    '''Computes the local energy, in terms of r1, r2 and alpha, corresponding to the trial wavefunction'''\n",
    "    norm_r1 = np.linalg.norm(r1)\n",
    "    norm_r2 = np.linalg.norm(r2)\n",
    "    r12 = np.linalg.norm(r1-r2)        \n",
    "    dot_product = np.dot(r1/norm_r1-r2/norm_r2,r1-r2)\n",
    "    energy = -4+dot_product/(r12*(1+alpha*r12)**2)-1/(r12*(1+alpha*r12)**3)-1/(4*(1+alpha*r12)**4)+1/r12 \n",
    "    return energy\n",
    "   \n",
    "def metropolis(N, alpha):\n",
    "    '''Metropolis algorithm that takes N steps. We start with two random variable within the\n",
    "    typical length of the problem and then we create a Markov chain taking into account the \n",
    "    probability density. At each step we compute the parameters we are interested in.'''\n",
    "        \n",
    "    L = 1\n",
    "    r1 = np.random.rand(3)*2*L-L\n",
    "    r2 = np.random.rand(3)*2*L-L #random number from -L to L\n",
    "    E = 0\n",
    "    E2 = 0\n",
    "    Eln_average = 0\n",
    "    ln_average = 0\n",
    "    rejection_ratio = 0\n",
    "    step = 0\n",
    "    max_steps = 500\n",
    "    \n",
    "    #Algorithm\n",
    "    for i in range(N):\n",
    "        chose = np.random.rand()\n",
    "        step = step + 1\n",
    "        if chose < 0.5:\n",
    "            r1_trial = r1 + 0.5*(np.random.rand(3)*2*L-L)\n",
    "            r2_trial = r2\n",
    "        else:\n",
    "            r2_trial = r2 + 0.5*(np.random.rand(3)*2*L-L)\n",
    "            r1_trial = r1\n",
    "        if prob_density(r1_trial,r2_trial,alpha) >= prob_density(r1,r2,alpha):\n",
    "            r1 = r1_trial\n",
    "            r2 = r2_trial\n",
    "        else:\n",
    "            dummy = np.random.rand()\n",
    "            if dummy < prob_density(r1_trial,r2_trial,alpha)/prob_density(r1,r2,alpha):\n",
    "                r1 = r1_trial\n",
    "                r2 = r2_trial\n",
    "            else:\n",
    "                rejection_ratio += 1./N\n",
    "                \n",
    "        if step > max_steps:\n",
    "            E += E_local(r1,r2,alpha)/(N-max_steps)\n",
    "            E2 += E_local(r1,r2,alpha)**2/(N-max_steps)\n",
    "            r12 = np.linalg.norm(r1-r2)\n",
    "            Eln_average += (E_local(r1,r2,alpha)*-r12**2/(2*(1+alpha*r12)**2))/(N-max_steps)\n",
    "            ln_average += -r12**2/(2*(1+alpha*r12)**2)/(N-max_steps)\n",
    "    \n",
    "    return E, E2, Eln_average, ln_average, rejection_ratio\n",
    "\n",
    "'''Initial parameters'''\n",
    "alpha = 0\n",
    "#alpha_iterations = 30\n",
    "alpha_iterations = 6\n",
    "N_metropolis = 5000\n",
    "random_walkers = 200\n",
    "gamma = 0.5\n",
    "\n",
    "energy_plot = np.array([])\n",
    "alpha_plot = np.array([])\n",
    "variance_plot = np.array([])\n",
    "\n",
    "for i in range(alpha_iterations):\n",
    "    E = 0\n",
    "    E2 = 0\n",
    "    dE_dalpha = 0\n",
    "    Eln = 0\n",
    "    ln = 0\n",
    "    rejection_ratio = 0\n",
    "    \n",
    "    for j in range(random_walkers): #We use more than one random_walkers in case one gets stuck at some X\n",
    "        E_met, E2_met, Eln_met, ln_met, rejections_met = metropolis(N_metropolis, alpha)\n",
    "        E += E_met/random_walkers\n",
    "        E2 += E2_met/random_walkers\n",
    "        Eln += Eln_met/random_walkers\n",
    "        ln += ln_met/random_walkers\n",
    "        rejection_ratio += rejections_met/random_walkers \n",
    "\n",
    "    '''Define next alpha'''\n",
    "    dE_dalpha = 2*(Eln-E*ln)\n",
    "    print('Alpha: ', alpha, '<E>: ', E, 'VarE: ', E2-E**2, 'ratio = ', rejection_ratio)\n",
    "    alpha = alpha + 0.05\n",
    "    #alpha = alpha - gamma*dE_dalpha\n",
    "\n",
    "    '''Plot'''    \n",
    "    energy_plot = np.append(energy_plot, E)\n",
    "    alpha_plot = np.append(alpha_plot, alpha)\n",
    "    variance_plot = np.append(variance_plot, E2-E**2)\n",
    "\n",
    "\n",
    "fig1 = plt.figure()\n",
    "\n",
    "ax1 = fig1.add_subplot(311)\n",
    "plt.title('Helium atom: evolution of the parameters')\n",
    "plt.grid()\n",
    "ax1.plot(alpha_plot, 'g')\n",
    "ax1.set_xlabel('Timestep')\n",
    "ax1.set_ylabel('Alpha')\n",
    "\n",
    "ax2 = fig1.add_subplot(312)\n",
    "plt.grid()\n",
    "ax2.plot(energy_plot)\n",
    "ax2.set_xlabel('Timestep')\n",
    "ax2.set_ylabel('E exp value')\n",
    "ax2.errorbar(range(len(energy_plot)), energy_plot, yerr=np.sqrt(variance_plot), c='b')\n",
    "\n",
    "ax3 = fig1.add_subplot(313)\n",
    "plt.grid()\n",
    "ax3.plot(variance_plot, 'r')\n",
    "ax3.set_xlabel('Timestep')\n",
    "ax3.set_ylabel('Var E')\n",
    "\n",
    "fig2 = plt.figure()\n",
    "ax4 = fig2.add_subplot(111)\n",
    "plt.title('Helium atom: Energy vs. alpha')\n",
    "plt.grid()\n",
    "ax4.plot(alpha_plot, energy_plot, 'ro')\n",
    "ax4.set_xlabel('Alpha')\n",
    "ax4.set_ylabel('Energy')"
   ]
  },
  {
   "cell_type": "code",
   "execution_count": null,
   "id": "crazy-hands",
   "metadata": {},
   "outputs": [],
   "source": []
  }
 ],
 "metadata": {
  "kernelspec": {
   "display_name": "Python 3",
   "language": "python",
   "name": "phys1600"
  },
  "language_info": {
   "codemirror_mode": {
    "name": "ipython",
    "version": 3
   },
   "file_extension": ".py",
   "mimetype": "text/x-python",
   "name": "python",
   "nbconvert_exporter": "python",
   "pygments_lexer": "ipython3",
   "version": "3.8.6"
  }
 },
 "nbformat": 4,
 "nbformat_minor": 5
}
